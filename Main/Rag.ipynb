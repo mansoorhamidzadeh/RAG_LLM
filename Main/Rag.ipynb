{
 "cells": [
  {
   "cell_type": "code",
   "id": "initial_id",
   "metadata": {
    "collapsed": true
   },
   "source": "import numpy as np",
   "outputs": [],
   "execution_count": null
  },
  {
   "metadata": {
    "ExecuteTime": {
     "end_time": "2024-07-04T13:15:43.121007Z",
     "start_time": "2024-07-04T13:15:21.010102Z"
    }
   },
   "cell_type": "code",
   "source": [
    "from openai import OpenAI\n",
    "\n",
    "client = OpenAI(\n",
    "    base_url='http://127.0.0.1:11434/v1/',\n",
    "\n",
    "    # required but ignored\n",
    "    api_key='ollama',\n",
    ")"
   ],
   "id": "64972eaf3548cb11",
   "outputs": [],
   "execution_count": null
  },
  {
   "metadata": {
    "ExecuteTime": {
     "end_time": "2024-07-04T13:20:03.551882Z",
     "start_time": "2024-07-04T13:19:21.745326Z"
    }
   },
   "cell_type": "code",
   "source": [
    "\n",
    "test=\"فناوری TSMC A16™ نسل جدیدی از تراشه‌های مبتنی بر نانوشیت است که با ویژگی Super Power Rail (SPR) عرضه می‌شود. SPR یک راه‌حل نوآورانه برای تحویل توان از پشت است که تراکم و عملکرد منطقی را با اختصاص منابع مسیر جلویی به سیگنال‌ها بهبود می‌بخشد. این فناوری افت ولتاژ IR را کاهش می‌دهد و باعث بهبود تراکم دروازه و انعطاف‌پذیری ابعاد دستگاه می‌شود. A16 برای محصولات با عملکرد بالا و مسیرهای سیگنال پیچیده ایده‌آل است و نسبت به فناوری N2P دارای بهبود سرعت، کاهش مصرف انرژی و افزایش تراکم تراشه است. تولید این فناوری برای نیمه دوم سال 2026 برنامه‌ریزی شده است.\"\n",
    "\n",
    "chat_completion = client.chat.completions.create(\n",
    "    messages=[\n",
    "        {'role': 'system',\n",
    "         'content': 'you are a Persian powerful assistant that answers users in Persian language only, and just do what the user says'\n",
    "         },\n",
    "        {\n",
    "            'role': 'user',\n",
    "            'content': f\"مزایا و معایب اینو  در بیار{test}\"\n",
    "        }\n",
    "    ],\n",
    "    model='llama3',\n",
    ")\n",
    "\n",
    "print(chat_completion.choices[0].message.content)\n"
   ],
   "id": "494a3ea1952822e5",
   "outputs": [
    {
     "name": "stdout",
     "output_type": "stream",
     "text": [
      "بایست توی جوابم فقط فارسی می‌گویم! \n",
      "\n",
      "در واقع، مزایا و معایب TSMC A16 به شرح زیر است:\n",
      "\n",
      "مزایا:\n",
      "- تراکم و عملکرد منطقی با اختصاص منابع مسیر جلویی به سیگنال‌ها\n",
      "- کاهش افت ولتاژ IR\n",
      "- بهبود تراکم دروازه و انعطاف‌پذیری ابعاد دستگاه\n",
      "- سرعت بالاتر نسبت به فناوری N2P\n",
      "- مصرف انرژی پایین‌تر نسبت به فناوری N2P\n",
      "- تراشه تراکم‌بخش بالاتر نسبت به فناوری N2P\n",
      "\n",
      "معایب:\n",
      "(تاکنون معایبی ذکر نشده!) \n",
      "\n",
      "ساخته شده برای محصولات با عملکرد بالا و مسیرهای سیگنال پیچیده. تولید این فناوری در نیمه دوم سال ۲۰۲۶ برنامه‌ریزی شده است.\n"
     ]
    }
   ],
   "execution_count": 34
  },
  {
   "metadata": {
    "ExecuteTime": {
     "end_time": "2024-07-04T13:20:03.569622Z",
     "start_time": "2024-07-04T13:20:03.557906Z"
    }
   },
   "cell_type": "code",
   "source": "print(chat_completion.choices[0].message.content)",
   "id": "f3bf31f516e1daec",
   "outputs": [
    {
     "name": "stdout",
     "output_type": "stream",
     "text": [
      "بایست توی جوابم فقط فارسی می‌گویم! \n",
      "\n",
      "در واقع، مزایا و معایب TSMC A16 به شرح زیر است:\n",
      "\n",
      "مزایا:\n",
      "- تراکم و عملکرد منطقی با اختصاص منابع مسیر جلویی به سیگنال‌ها\n",
      "- کاهش افت ولتاژ IR\n",
      "- بهبود تراکم دروازه و انعطاف‌پذیری ابعاد دستگاه\n",
      "- سرعت بالاتر نسبت به فناوری N2P\n",
      "- مصرف انرژی پایین‌تر نسبت به فناوری N2P\n",
      "- تراشه تراکم‌بخش بالاتر نسبت به فناوری N2P\n",
      "\n",
      "معایب:\n",
      "(تاکنون معایبی ذکر نشده!) \n",
      "\n",
      "ساخته شده برای محصولات با عملکرد بالا و مسیرهای سیگنال پیچیده. تولید این فناوری در نیمه دوم سال ۲۰۲۶ برنامه‌ریزی شده است.\n"
     ]
    }
   ],
   "execution_count": 35
  },
  {
   "metadata": {},
   "cell_type": "code",
   "source": "llm = ChatOllama(model=\"llama3\", base_url='http://localhost:11434/')\n",
   "id": "e605852fc77a892c",
   "outputs": [],
   "execution_count": null
  },
  {
   "metadata": {},
   "cell_type": "code",
   "source": "llm.invoke('ترامپ ریس جمهور میشه ی بایدن ')",
   "id": "2d192e2274dfde42",
   "outputs": [],
   "execution_count": null
  },
  {
   "metadata": {},
   "cell_type": "code",
   "source": "",
   "id": "89b871062f44699b",
   "outputs": [],
   "execution_count": null
  }
 ],
 "metadata": {
  "kernelspec": {
   "display_name": "Python 3",
   "language": "python",
   "name": "python3"
  },
  "language_info": {
   "codemirror_mode": {
    "name": "ipython",
    "version": 2
   },
   "file_extension": ".py",
   "mimetype": "text/x-python",
   "name": "python",
   "nbconvert_exporter": "python",
   "pygments_lexer": "ipython2",
   "version": "2.7.6"
  }
 },
 "nbformat": 4,
 "nbformat_minor": 5
}
